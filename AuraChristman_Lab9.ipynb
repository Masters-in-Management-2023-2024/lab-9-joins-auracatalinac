{
  "cells": [
    {
      "cell_type": "markdown",
      "metadata": {
        "id": "gs_wOGI5yU1w"
      },
      "source": [
        "# OPAN5510 Lab Assignment - Joins\n",
        "\n",
        "This lab focuses on using Polars to perform data joins and aggregations to answer business questions."
      ]
    },
    {
      "cell_type": "markdown",
      "metadata": {
        "id": "1RC5vZJsyU1x"
      },
      "source": [
        "# Bike Trips Dataset\n",
        "\n",
        "## Prerequisites\n",
        "\n",
        "For this assignment, you'll need to use Polars for data manipulation.\n",
        "\n",
        "*Insert a code block to import necessary packages (polars)*"
      ]
    },
    {
      "cell_type": "code",
      "execution_count": 1,
      "metadata": {
        "id": "U6sEu6oqyU1x"
      },
      "outputs": [],
      "source": [
        "# Import necessary packages\n",
        "import polars as pl"
      ]
    },
    {
      "cell_type": "markdown",
      "metadata": {
        "id": "BcAhQENByU1x"
      },
      "source": [
        "## Load Datasets\n",
        "\n",
        "Load the `bike_trips.csv` and `bike_weather.csv` files into Polars DataFrames called `trips` and `weather`, respectively.\n",
        "\n",
        "*Insert code block that reads these files into Polars DataFrames*"
      ]
    },
    {
      "cell_type": "code",
      "execution_count": 3,
      "metadata": {
        "colab": {
          "base_uri": "https://localhost:8080/"
        },
        "id": "O1NJ_d1SyU1x",
        "outputId": "0c527f52-fc12-423b-ba11-d30a9ebe5926"
      },
      "outputs": [
        {
          "output_type": "stream",
          "name": "stdout",
          "text": [
            "shape: (78_704, 12)\n",
            "┌────────┬──────────┬─────────────┬─────────────┬───┬─────────┬────────────┬──────────┬────────────┐\n",
            "│ id     ┆ duration ┆ start_date  ┆ start_stati ┆ … ┆ bike_id ┆ subscripti ┆ zip_code ┆ date       │\n",
            "│ ---    ┆ ---      ┆ ---         ┆ on_name     ┆   ┆ ---     ┆ on_type    ┆ ---      ┆ ---        │\n",
            "│ i64    ┆ i64      ┆ str         ┆ ---         ┆   ┆ i64     ┆ ---        ┆ i64      ┆ date       │\n",
            "│        ┆          ┆             ┆ str         ┆   ┆         ┆ str        ┆          ┆            │\n",
            "╞════════╪══════════╪═════════════╪═════════════╪═══╪═════════╪════════════╪══════════╪════════════╡\n",
            "│ 4721   ┆ 3        ┆ 2013-08-29T ┆ Market at   ┆ … ┆ 416     ┆ Subscriber ┆ 94107    ┆ 2013-08-29 │\n",
            "│        ┆          ┆ 20:27:00Z   ┆ 10th        ┆   ┆         ┆            ┆          ┆            │\n",
            "│ 4812   ┆ 3        ┆ 2013-08-29T ┆ 2nd at      ┆ … ┆ 409     ┆ Subscriber ┆ 94107    ┆ 2013-08-29 │\n",
            "│        ┆          ┆ 21:30:00Z   ┆ Folsom      ┆   ┆         ┆            ┆          ┆            │\n",
            "│ 4705   ┆ 3        ┆ 2013-08-29T ┆ Golden Gate ┆ … ┆ 519     ┆ Subscriber ┆ 94107    ┆ 2013-08-29 │\n",
            "│        ┆          ┆ 20:15:00Z   ┆ at Polk     ┆   ┆         ┆            ┆          ┆            │\n",
            "│ 4841   ┆ 3        ┆ 2013-08-29T ┆ University  ┆ … ┆ 83      ┆ Subscriber ┆ 94107    ┆ 2013-08-29 │\n",
            "│        ┆          ┆ 21:48:00Z   ┆ and Emerson ┆   ┆         ┆            ┆          ┆            │\n",
            "│ 4668   ┆ 4        ┆ 2013-08-29T ┆ San         ┆ … ┆ 489     ┆ Subscriber ┆ 94107    ┆ 2013-08-29 │\n",
            "│        ┆          ┆ 19:39:00Z   ┆ Francisco   ┆   ┆         ┆            ┆          ┆            │\n",
            "│        ┆          ┆             ┆ Caltrain 2  ┆   ┆         ┆            ┆          ┆            │\n",
            "│        ┆          ┆             ┆ (330 …      ┆   ┆         ┆            ┆          ┆            │\n",
            "│ …      ┆ …        ┆ …           ┆ …           ┆ … ┆ …       ┆ …          ┆ …        ┆ …          │\n",
            "│ 433040 ┆ 3        ┆ 2014-09-01T ┆ Townsend at ┆ … ┆ 111     ┆ Subscriber ┆ 94107    ┆ 2014-09-01 │\n",
            "│        ┆          ┆ 14:43:00Z   ┆ 7th         ┆   ┆         ┆            ┆          ┆            │\n",
            "│ 433035 ┆ 9        ┆ 2014-09-01T ┆ Powell      ┆ … ┆ 376     ┆ Subscriber ┆ 94107    ┆ 2014-09-01 │\n",
            "│        ┆          ┆ 14:37:00Z   ┆ Street BART ┆   ┆         ┆            ┆          ┆            │\n",
            "│ 433030 ┆ 6        ┆ 2014-09-01T ┆ Powell      ┆ … ┆ 421     ┆ Subscriber ┆ 94107    ┆ 2014-09-01 │\n",
            "│        ┆          ┆ 14:31:00Z   ┆ Street BART ┆   ┆         ┆            ┆          ┆            │\n",
            "│ 433004 ┆ 7        ┆ 2014-09-01T ┆ Steuart at  ┆ … ┆ 449     ┆ Subscriber ┆ 94107    ┆ 2014-09-01 │\n",
            "│        ┆          ┆ 13:36:00Z   ┆ Market      ┆   ┆         ┆            ┆          ┆            │\n",
            "│ 432998 ┆ 6        ┆ 2014-09-01T ┆ Market at   ┆ … ┆ 421     ┆ Subscriber ┆ 94107    ┆ 2014-09-01 │\n",
            "│        ┆          ┆ 13:16:00Z   ┆ 10th        ┆   ┆         ┆            ┆          ┆            │\n",
            "└────────┴──────────┴─────────────┴─────────────┴───┴─────────┴────────────┴──────────┴────────────┘\n",
            "shape: (733, 24)\n",
            "┌────────────┬────────────┬────────────┬───────────┬───┬───────────┬────────┬───────────┬──────────┐\n",
            "│ date       ┆ max_temper ┆ mean_tempe ┆ min_tempe ┆ … ┆ cloud_cov ┆ events ┆ wind_dir_ ┆ zip_code │\n",
            "│ ---        ┆ ature_f    ┆ rature_f   ┆ rature_f  ┆   ┆ er        ┆ ---    ┆ degrees   ┆ ---      │\n",
            "│ date       ┆ ---        ┆ ---        ┆ ---       ┆   ┆ ---       ┆ str    ┆ ---       ┆ i64      │\n",
            "│            ┆ i64        ┆ i64        ┆ i64       ┆   ┆ i64       ┆        ┆ i64       ┆          │\n",
            "╞════════════╪════════════╪════════════╪═══════════╪═══╪═══════════╪════════╪═══════════╪══════════╡\n",
            "│ 2013-08-29 ┆ 74         ┆ 68         ┆ 61        ┆ … ┆ 4         ┆ NA     ┆ 286       ┆ 94107    │\n",
            "│ 2013-08-30 ┆ 78         ┆ 69         ┆ 60        ┆ … ┆ 2         ┆ NA     ┆ 291       ┆ 94107    │\n",
            "│ 2013-08-31 ┆ 71         ┆ 64         ┆ 57        ┆ … ┆ 4         ┆ NA     ┆ 284       ┆ 94107    │\n",
            "│ 2013-09-01 ┆ 74         ┆ 66         ┆ 58        ┆ … ┆ 4         ┆ NA     ┆ 284       ┆ 94107    │\n",
            "│ 2013-09-02 ┆ 75         ┆ 69         ┆ 62        ┆ … ┆ 6         ┆ NA     ┆ 277       ┆ 94107    │\n",
            "│ …          ┆ …          ┆ …          ┆ …         ┆ … ┆ …         ┆ …      ┆ …         ┆ …        │\n",
            "│ 2015-08-27 ┆ 84         ┆ 72         ┆ 59        ┆ … ┆ 2         ┆ NA     ┆ 272       ┆ 94107    │\n",
            "│ 2015-08-28 ┆ 91         ┆ 77         ┆ 62        ┆ … ┆ 4         ┆ NA     ┆ 291       ┆ 94107    │\n",
            "│ 2015-08-29 ┆ 76         ┆ 71         ┆ 65        ┆ … ┆ 6         ┆ Rain   ┆ 260       ┆ 94107    │\n",
            "│ 2015-08-30 ┆ 78         ┆ 70         ┆ 61        ┆ … ┆ 3         ┆ NA     ┆ 276       ┆ 94107    │\n",
            "│ 2015-08-31 ┆ 78         ┆ 69         ┆ 60        ┆ … ┆ 1         ┆ NA     ┆ 246       ┆ 94107    │\n",
            "└────────────┴────────────┴────────────┴───────────┴───┴───────────┴────────┴───────────┴──────────┘\n"
          ]
        }
      ],
      "source": [
        "# Load the bike trips and weather data\n",
        "\n",
        "trips = pl.read_csv(\"/content/bike_trips.csv\")\n",
        "weather = pl.read_csv(\"/content/bike_weather.csv\")\n",
        "\n",
        "trips = trips.with_columns(\n",
        "    pl.col(\"date\").str.strptime(pl.Date, format=\"%Y-%m-%d\")\n",
        ")\n",
        "weather = weather.with_columns(\n",
        "    pl.col(\"date\").str.strptime(pl.Date, format=\"%Y-%m-%d\"),\n",
        "    pl.col(\"events\").str.replace(\" \", \"_\")\n",
        ")\n",
        "\n",
        "print(trips)\n",
        "print(weather)"
      ]
    },
    {
      "cell_type": "markdown",
      "metadata": {
        "id": "R04JtG9EyU1x"
      },
      "source": [
        "## Business Question 1: What was the average `duration` of trips that occurred in rainy weather?\n",
        "\n",
        "#### Part A: Join the trips and weather data frames\n",
        "\n",
        "The `trips` data represent every ride taken for a bike share company. The `weather` data represent the prevailing weather for a particular day. Join the `trips` and `weather` data together using the `date` column. Name the resulting DataFrame `trips_weather`.\n",
        "\n",
        "*Insert a code block below that joins `trips` to `weather` using the `date` column.*"
      ]
    },
    {
      "cell_type": "code",
      "execution_count": 4,
      "metadata": {
        "id": "LMuv46gAyU1y",
        "colab": {
          "base_uri": "https://localhost:8080/"
        },
        "outputId": "c7d86818-134e-4841-eb58-ae4d7a63f5f6"
      },
      "outputs": [
        {
          "output_type": "stream",
          "name": "stdout",
          "text": [
            "joined rows: 78704\n",
            "shape: (78_704, 35)\n",
            "┌────────┬──────────┬─────────────┬────────────┬───┬────────────┬────────┬────────────┬────────────┐\n",
            "│ id     ┆ duration ┆ start_date  ┆ start_stat ┆ … ┆ cloud_cove ┆ events ┆ wind_dir_d ┆ zip_code_r │\n",
            "│ ---    ┆ ---      ┆ ---         ┆ ion_name   ┆   ┆ r          ┆ ---    ┆ egrees     ┆ ight       │\n",
            "│ i64    ┆ i64      ┆ str         ┆ ---        ┆   ┆ ---        ┆ str    ┆ ---        ┆ ---        │\n",
            "│        ┆          ┆             ┆ str        ┆   ┆ i64        ┆        ┆ i64        ┆ i64        │\n",
            "╞════════╪══════════╪═════════════╪════════════╪═══╪════════════╪════════╪════════════╪════════════╡\n",
            "│ 4721   ┆ 3        ┆ 2013-08-29T ┆ Market at  ┆ … ┆ 4          ┆ NA     ┆ 286        ┆ 94107      │\n",
            "│        ┆          ┆ 20:27:00Z   ┆ 10th       ┆   ┆            ┆        ┆            ┆            │\n",
            "│ 4812   ┆ 3        ┆ 2013-08-29T ┆ 2nd at     ┆ … ┆ 4          ┆ NA     ┆ 286        ┆ 94107      │\n",
            "│        ┆          ┆ 21:30:00Z   ┆ Folsom     ┆   ┆            ┆        ┆            ┆            │\n",
            "│ 4705   ┆ 3        ┆ 2013-08-29T ┆ Golden     ┆ … ┆ 4          ┆ NA     ┆ 286        ┆ 94107      │\n",
            "│        ┆          ┆ 20:15:00Z   ┆ Gate at    ┆   ┆            ┆        ┆            ┆            │\n",
            "│        ┆          ┆             ┆ Polk       ┆   ┆            ┆        ┆            ┆            │\n",
            "│ 4841   ┆ 3        ┆ 2013-08-29T ┆ University ┆ … ┆ 4          ┆ NA     ┆ 286        ┆ 94107      │\n",
            "│        ┆          ┆ 21:48:00Z   ┆ and        ┆   ┆            ┆        ┆            ┆            │\n",
            "│        ┆          ┆             ┆ Emerson    ┆   ┆            ┆        ┆            ┆            │\n",
            "│ 4668   ┆ 4        ┆ 2013-08-29T ┆ San        ┆ … ┆ 4          ┆ NA     ┆ 286        ┆ 94107      │\n",
            "│        ┆          ┆ 19:39:00Z   ┆ Francisco  ┆   ┆            ┆        ┆            ┆            │\n",
            "│        ┆          ┆             ┆ Caltrain 2 ┆   ┆            ┆        ┆            ┆            │\n",
            "│        ┆          ┆             ┆ (330 …     ┆   ┆            ┆        ┆            ┆            │\n",
            "│ …      ┆ …        ┆ …           ┆ …          ┆ … ┆ …          ┆ …      ┆ …          ┆ …          │\n",
            "│ 433040 ┆ 3        ┆ 2014-09-01T ┆ Townsend   ┆ … ┆ 0          ┆ NA     ┆ 290        ┆ 94107      │\n",
            "│        ┆          ┆ 14:43:00Z   ┆ at 7th     ┆   ┆            ┆        ┆            ┆            │\n",
            "│ 433035 ┆ 9        ┆ 2014-09-01T ┆ Powell     ┆ … ┆ 0          ┆ NA     ┆ 290        ┆ 94107      │\n",
            "│        ┆          ┆ 14:37:00Z   ┆ Street     ┆   ┆            ┆        ┆            ┆            │\n",
            "│        ┆          ┆             ┆ BART       ┆   ┆            ┆        ┆            ┆            │\n",
            "│ 433030 ┆ 6        ┆ 2014-09-01T ┆ Powell     ┆ … ┆ 0          ┆ NA     ┆ 290        ┆ 94107      │\n",
            "│        ┆          ┆ 14:31:00Z   ┆ Street     ┆   ┆            ┆        ┆            ┆            │\n",
            "│        ┆          ┆             ┆ BART       ┆   ┆            ┆        ┆            ┆            │\n",
            "│ 433004 ┆ 7        ┆ 2014-09-01T ┆ Steuart at ┆ … ┆ 0          ┆ NA     ┆ 290        ┆ 94107      │\n",
            "│        ┆          ┆ 13:36:00Z   ┆ Market     ┆   ┆            ┆        ┆            ┆            │\n",
            "│ 432998 ┆ 6        ┆ 2014-09-01T ┆ Market at  ┆ … ┆ 0          ┆ NA     ┆ 290        ┆ 94107      │\n",
            "│        ┆          ┆ 13:16:00Z   ┆ 10th       ┆   ┆            ┆        ┆            ┆            │\n",
            "└────────┴──────────┴─────────────┴────────────┴───┴────────────┴────────┴────────────┴────────────┘\n"
          ]
        }
      ],
      "source": [
        "# Join trips and weather data\n",
        "\n",
        "trips_weather = trips.join(weather, on=\"date\", how=\"inner\")\n",
        "\n",
        "print(\"joined rows:\", trips_weather.height)\n",
        "print(trips_weather)"
      ]
    },
    {
      "cell_type": "markdown",
      "metadata": {
        "id": "jAmIh2v9yU1y"
      },
      "source": [
        "#### Part B: Calculate the average `duration` of trips in poor weather\n",
        "\n",
        "Using the `trips_weather` DataFrame, compute the average trip `duration` for days that had weather `events` (i.e. anytime a day had an event of anything but `null`). Name the column for average `duration`: `avg_duration`. The resulting DataFrame should have one row and be named `avg_bad_weather`.\n",
        "\n",
        "*Insert a code block that shows the computation of the average trip duration for days that had a weather event.*"
      ]
    },
    {
      "cell_type": "code",
      "execution_count": 5,
      "metadata": {
        "id": "GfK-KPe2yU1y",
        "colab": {
          "base_uri": "https://localhost:8080/"
        },
        "outputId": "970b9269-3fc7-4a19-fbed-2b8bf9c0217e"
      },
      "outputs": [
        {
          "output_type": "stream",
          "name": "stdout",
          "text": [
            "shape: (1, 1)\n",
            "┌──────────────┐\n",
            "│ avg_duration │\n",
            "│ ---          │\n",
            "│ f64          │\n",
            "╞══════════════╡\n",
            "│ 10.546097    │\n",
            "└──────────────┘\n"
          ]
        }
      ],
      "source": [
        "# Calculate average duration for trips with weather events\n",
        "\n",
        "avg_bad_weather = trips_weather.filter(pl.col(\"events\").is_not_null()).select(\n",
        "    pl.col(\"duration\").mean().alias(\"avg_duration\")\n",
        ")\n",
        "\n",
        "print(avg_bad_weather)"
      ]
    },
    {
      "cell_type": "markdown",
      "metadata": {
        "id": "r1HZVy2qyU1y"
      },
      "source": [
        "# Baseball Dataset\n",
        "\n",
        "## Load Data\n",
        "\n",
        "Load the `Batting.csv`, `People.csv`, and `HallOfFame.csv` datasets into Polars DataFrames.\n",
        "\n",
        "*Insert a code block to load your datasets*"
      ]
    },
    {
      "cell_type": "code",
      "execution_count": 6,
      "metadata": {
        "id": "qrZO72DTyU1y"
      },
      "outputs": [],
      "source": [
        "# Load baseball datasets\n",
        "Batting = pl.read_csv(\"https://raw.githubusercontent.com/philhetzel/opan5510-class9/refs/heads/main/data/Batting.csv\", null_values='NA')\n",
        "People = pl.read_csv(\"https://raw.githubusercontent.com/philhetzel/opan5510-class9/refs/heads/main/data/People.csv\", null_values='NA')\n",
        "HallOfFame = pl.read_csv(\"https://raw.githubusercontent.com/philhetzel/opan5510-class9/refs/heads/main/data/HallOfFame.csv\", null_values='NA')\n"
      ]
    },
    {
      "cell_type": "markdown",
      "metadata": {
        "id": "M9wo7SwoyU1y"
      },
      "source": [
        "## Question 2: How many home runs (`HR`) were hit by players born in Florida?\n",
        "\n",
        "#### Part A: Join the `Batting` and `People` DataFrames together\n",
        "\n",
        "In order to answer this question, you'll need to use the `Batting` and `People` DataFrames. The `Batting` DataFrame has hitting statistics for every season that an individual player has played. The `People` DataFrame represents biographical data about every professional baseball player.\n",
        "\n",
        "Join the `People` DataFrame into the `Batting` DataFrame so that we can perform analysis on batting statistics using columns from the `People` DataFrame. Name the new DataFrame `stats_w_bio`.\n",
        "\n",
        "*Insert a code block that joins the `Batting` DataFrame to the `People` DataFrame.*"
      ]
    },
    {
      "cell_type": "code",
      "execution_count": 7,
      "metadata": {
        "id": "BOYs3snEyU1y",
        "colab": {
          "base_uri": "https://localhost:8080/"
        },
        "outputId": "33b56753-bd80-4839-bc06-35bcaac6a5ac"
      },
      "outputs": [
        {
          "output_type": "stream",
          "name": "stdout",
          "text": [
            "joined rows: 112184\n",
            "shape: (112_184, 47)\n",
            "┌───────────┬────────┬───────┬────────┬───┬──────────┬───────────┬────────────┬────────────┐\n",
            "│ playerID  ┆ yearID ┆ stint ┆ teamID ┆ … ┆ retroID  ┆ bbrefID   ┆ deathDate  ┆ birthDate  │\n",
            "│ ---       ┆ ---    ┆ ---   ┆ ---    ┆   ┆ ---      ┆ ---       ┆ ---        ┆ ---        │\n",
            "│ str       ┆ i64    ┆ i64   ┆ str    ┆   ┆ str      ┆ str       ┆ str        ┆ str        │\n",
            "╞═══════════╪════════╪═══════╪════════╪═══╪══════════╪═══════════╪════════════╪════════════╡\n",
            "│ abercda01 ┆ 1871   ┆ 1     ┆ TRO    ┆ … ┆ aberd101 ┆ abercda01 ┆ 1939-11-11 ┆ 1850-01-02 │\n",
            "│ addybo01  ┆ 1871   ┆ 1     ┆ RC1    ┆ … ┆ addyb101 ┆ addybo01  ┆ 1910-04-09 ┆ null       │\n",
            "│ allisar01 ┆ 1871   ┆ 1     ┆ CL1    ┆ … ┆ allia101 ┆ allisar01 ┆ 1916-02-25 ┆ 1849-01-29 │\n",
            "│ allisdo01 ┆ 1871   ┆ 1     ┆ WS3    ┆ … ┆ allid101 ┆ allisdo01 ┆ 1916-12-19 ┆ 1846-07-12 │\n",
            "│ ansonca01 ┆ 1871   ┆ 1     ┆ RC1    ┆ … ┆ ansoc101 ┆ ansonca01 ┆ 1922-04-14 ┆ 1852-04-17 │\n",
            "│ …         ┆ …      ┆ …     ┆ …      ┆ … ┆ …        ┆ …         ┆ …          ┆ …          │\n",
            "│ zimmebr01 ┆ 2022   ┆ 1     ┆ TOR    ┆ … ┆ zimmb001 ┆ zimmebr01 ┆ null       ┆ 1992-11-27 │\n",
            "│ zimmebr01 ┆ 2022   ┆ 2     ┆ PHI    ┆ … ┆ zimmb001 ┆ zimmebr01 ┆ null       ┆ 1992-11-27 │\n",
            "│ zimmebr01 ┆ 2022   ┆ 3     ┆ TOR    ┆ … ┆ zimmb001 ┆ zimmebr01 ┆ null       ┆ 1992-11-27 │\n",
            "│ zimmebr02 ┆ 2022   ┆ 1     ┆ BAL    ┆ … ┆ zimmb002 ┆ zimmebr02 ┆ null       ┆ 1995-02-09 │\n",
            "│ zuninmi01 ┆ 2022   ┆ 1     ┆ TBA    ┆ … ┆ zunim001 ┆ zuninmi01 ┆ null       ┆ 1991-03-25 │\n",
            "└───────────┴────────┴───────┴────────┴───┴──────────┴───────────┴────────────┴────────────┘\n"
          ]
        }
      ],
      "source": [
        "# Join Batting and People DataFrames\n",
        "\n",
        "stats_w_bio = Batting.join(People, on=\"playerID\", how=\"inner\")\n",
        "\n",
        "print(\"joined rows:\", stats_w_bio.height)\n",
        "print(stats_w_bio)"
      ]
    },
    {
      "cell_type": "markdown",
      "metadata": {
        "id": "Pr63NEFcyU1y"
      },
      "source": [
        "#### Part B: Calculate the total number of home runs that were hit by Florida-born players\n",
        "\n",
        "You would like to perform an analysis about how many home runs (`HR`) were hit by players that were born in the `birthState` of Florida (`FL`). Using the new `stats_w_bio` DataFrame that combines batting statistics with biographical information, compute the total number of home runs (`HR`) hit by players who were born (`birthState`) in Florida (`FL`) and name the new column `total_hr`. The DataFrame should have one row and be named `florida_hr`.\n",
        "\n",
        "*Insert a block of code that shows the computation of total home runs hit by players born in Florida. The output of this code block should be a DataFrame.*"
      ]
    },
    {
      "cell_type": "code",
      "execution_count": 8,
      "metadata": {
        "id": "bBGsxFDUyU1y",
        "colab": {
          "base_uri": "https://localhost:8080/"
        },
        "outputId": "e3f51663-4e92-4deb-cd4f-495a051ac255"
      },
      "outputs": [
        {
          "output_type": "stream",
          "name": "stdout",
          "text": [
            "shape: (1, 1)\n",
            "┌──────────┐\n",
            "│ total_hr │\n",
            "│ ---      │\n",
            "│ i64      │\n",
            "╞══════════╡\n",
            "│ 16225    │\n",
            "└──────────┘\n"
          ]
        }
      ],
      "source": [
        "# Calculate total home runs by Florida-born players\n",
        "\n",
        "florida_hr = stats_w_bio.filter(pl.col(\"birthState\") == \"FL\").select(\n",
        "    pl.col(\"HR\").sum().alias(\"total_hr\")\n",
        ")\n",
        "\n",
        "print(florida_hr)"
      ]
    },
    {
      "cell_type": "markdown",
      "metadata": {
        "id": "d5v5qjkayU1y"
      },
      "source": [
        "## Question 3: What are the average number of career Hits (`H`) for Hall of Fame baseball players?\n",
        "\n",
        "#### Part A: Clean the `HallOfFame` DataFrame\n",
        "\n",
        "You would like to perform an analysis on the batting statistics of Hall of Fame baseball players. In order to answer this question, you'll need to use the `Batting` and `HallOfFame` DataFrames.\n",
        "\n",
        "The first thing that you have to do to perform this analysis is to join the `HallOfFame` data into the `Batting` data to understand which players are \"Hall of Famers\". To join the data correctly, we have to ensure that the `playerID` field is unique in `HallOfFame`. Not every player in the `HallOfFame` DataFrame is a Hall of Famer; their `inducted` field must have the value of `Y` and their `category` field should have the value of `Player`. Name the new DataFrame `hall_inducted`.\n",
        "\n",
        "*Insert a code block to transform the `HallOfFame` DataFrame to ensure that `playerID` is unique.*"
      ]
    },
    {
      "cell_type": "code",
      "execution_count": 9,
      "metadata": {
        "id": "P0lc9qLPyU1y"
      },
      "outputs": [],
      "source": [
        "# Clean HallOfFame DataFrame\n",
        "\n",
        "hall_inducted = HallOfFame.filter(\n",
        "    (pl.col(\"inducted\") == \"Y\") & (pl.col(\"category\") == \"Player\")\n",
        ").join(Batting, on=\"playerID\", how=\"inner\")"
      ]
    },
    {
      "cell_type": "markdown",
      "metadata": {
        "id": "A6z9HFdjyU1y"
      },
      "source": [
        "#### Part B: Find the average number of career hits across Hall of Fame players\n",
        "\n",
        "Join the `hall_inducted` data into the `Batting` data by `playerID`. Aggregate the data to compute the average total hits (`H`) across all Hall of Fame players. To do this, you will first need to calculate the total number of hits for each player and then calculate the average hits across all players. Call the new column `average_hits`. The resulting DataFrame should have one row and be named `hof_hits`.\n",
        "\n",
        "*Insert a code block that joins the `Batting` and the `hall_inducted` data together and then calculates the average number of career hits (`H`) across all Hall of Fame players. The output of this code block should be a DataFrame.*"
      ]
    },
    {
      "cell_type": "code",
      "execution_count": 11,
      "metadata": {
        "id": "JzWY4cVbyU1y",
        "colab": {
          "base_uri": "https://localhost:8080/"
        },
        "outputId": "40dbf320-931c-4ea4-9817-d0292d3e086f"
      },
      "outputs": [
        {
          "output_type": "stream",
          "name": "stdout",
          "text": [
            "shape: (1, 1)\n",
            "┌──────────────┐\n",
            "│ average_hits │\n",
            "│ ---          │\n",
            "│ f64          │\n",
            "╞══════════════╡\n",
            "│ 1717.29918   │\n",
            "└──────────────┘\n"
          ]
        }
      ],
      "source": [
        "# Calculate average career hits for Hall of Fame players\n",
        "\n",
        "hof_hits = hall_inducted.group_by(\"playerID\").agg(\n",
        "    pl.col(\"H\").sum().alias(\"total_hits\")\n",
        ").select(\n",
        "    pl.col(\"total_hits\").mean().alias(\"average_hits\")\n",
        ")\n",
        "print(hof_hits)"
      ]
    }
  ],
  "metadata": {
    "kernelspec": {
      "display_name": "Python 3",
      "language": "python",
      "name": "python3"
    },
    "language_info": {
      "codemirror_mode": {
        "name": "ipython",
        "version": 3
      },
      "file_extension": ".py",
      "mimetype": "text/x-python",
      "name": "python",
      "nbconvert_exporter": "python",
      "pygments_lexer": "ipython3",
      "version": "3.12.0"
    },
    "colab": {
      "provenance": []
    }
  },
  "nbformat": 4,
  "nbformat_minor": 0
}